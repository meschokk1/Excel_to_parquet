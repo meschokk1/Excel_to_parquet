{
 "cells": [
  {
   "cell_type": "code",
   "execution_count": 36,
   "id": "4a13ce7a-060e-40cf-b08b-400406df3329",
   "metadata": {},
   "outputs": [],
   "source": [
    "import pandas as pd\n",
    "import os"
   ]
  },
  {
   "cell_type": "code",
   "execution_count": 37,
   "id": "c73cd64f-62dd-4d1a-87c8-1c6fe81b180a",
   "metadata": {},
   "outputs": [],
   "source": [
    "def xlx_to_parquet(files,new_folder_path,folder_name):\n",
    "    for file in files:\n",
    "        file_path = os.path.join(folder_name, file)\n",
    "        df = pd.read_excel(file_path)\n",
    "        new_file_path = os.path.join(new_folder_path,file)\n",
    "        df.to_parquet(new_file_path, index = False)\n",
    "    print(\"Готово!\")"
   ]
  },
  {
   "cell_type": "code",
   "execution_count": 39,
   "id": "3bd85a21-1537-45c5-858a-4cfcccfcae6e",
   "metadata": {},
   "outputs": [],
   "source": [
    "# Считывание всех эксель файлов\n",
    "folder_name = 'input folder'\n",
    "files = os.listdir(folder_name)\n",
    "xlsx_files = [file for file in files if file.endswith('.xlsx')]\n",
    "# Создание новой папки\n",
    "new_folder_name = f'{folder_name}_to_parquet'\n",
    "curr_directory = os.getcwd()\n",
    "new_folder_path = os.path.join(curr_directory, new_folder_name)\n",
    "os.makedirs(new_folder_path)"
   ]
  },
  {
   "cell_type": "code",
   "execution_count": 40,
   "id": "b97dbbd4-93a2-48cd-af2e-e046e299e1fc",
   "metadata": {},
   "outputs": [
    {
     "name": "stdout",
     "output_type": "stream",
     "text": [
      "Готово!\n"
     ]
    }
   ],
   "source": [
    "xlx_to_parquet(xlsx_files,new_folder_path,folder_name)"
   ]
  },
  {
   "cell_type": "code",
   "execution_count": 43,
   "id": "c45d65cf-3467-4b89-ae8d-f0466b660102",
   "metadata": {},
   "outputs": [],
   "source": [
    "df = pd.read_excel('Лист Microsoft Excel.xlsx')\n",
    "df.to_csv('Лист Microsoft Excel.csv', encoding = 'utf-8')"
   ]
  },
  {
   "cell_type": "code",
   "execution_count": null,
   "id": "2ef570f2-3215-49b8-855e-cb951174d811",
   "metadata": {},
   "outputs": [],
   "source": []
  }
 ],
 "metadata": {
  "kernelspec": {
   "display_name": "Python 3 (ipykernel)",
   "language": "python",
   "name": "python3"
  },
  "language_info": {
   "codemirror_mode": {
    "name": "ipython",
    "version": 3
   },
   "file_extension": ".py",
   "mimetype": "text/x-python",
   "name": "python",
   "nbconvert_exporter": "python",
   "pygments_lexer": "ipython3",
   "version": "3.11.5"
  }
 },
 "nbformat": 4,
 "nbformat_minor": 5
}
